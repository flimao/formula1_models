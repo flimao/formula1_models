{
 "cells": [
  {
   "attachments": {},
   "cell_type": "markdown",
   "metadata": {},
   "source": [
    "# Implementation of F1 driver skill model (Phillips 2014)"
   ]
  },
  {
   "cell_type": "code",
   "execution_count": 1,
   "metadata": {},
   "outputs": [],
   "source": [
    "import os\n",
    "import pandas as pd\n",
    "from dotenv import load_dotenv, find_dotenv\n",
    "import sqlalchemy as sql"
   ]
  },
  {
   "cell_type": "code",
   "execution_count": 2,
   "metadata": {},
   "outputs": [
    {
     "data": {
      "text/plain": [
       "True"
      ]
     },
     "execution_count": 2,
     "metadata": {},
     "output_type": "execute_result"
    }
   ],
   "source": [
    "# find .env automagically by walking up directories until it's found, then\n",
    "# load up the .env entries as environment variables\n",
    "load_dotenv(find_dotenv())"
   ]
  },
  {
   "attachments": {},
   "cell_type": "markdown",
   "metadata": {},
   "source": [
    "## 1. Extracting Data from MySQL Database\n",
    "\n",
    "Database credentials in ENV variables through `dotenv`"
   ]
  },
  {
   "cell_type": "code",
   "execution_count": 3,
   "metadata": {},
   "outputs": [],
   "source": [
    "ergast_url = sql.URL.create(\n",
    "    'mysql+pymysql',\n",
    "    username = os.getenv(\"ERGASTF1_DB_USERNAME\"),\n",
    "    password = os.getenv(\"ERGASTF1_DB_PASSWORD\"),\n",
    "    host = os.getenv(\"ERGASTF1_DB_HOSTNAME\"),\n",
    "    database = os.getenv(\"ERGASTF1_DB_NAME\"),\n",
    ")\n",
    "\n",
    "ergast_engine = sql.create_engine(ergast_url, echo = False)"
   ]
  },
  {
   "attachments": {},
   "cell_type": "markdown",
   "metadata": {},
   "source": [
    "### Results data"
   ]
  },
  {
   "cell_type": "code",
   "execution_count": 7,
   "metadata": {},
   "outputs": [],
   "source": [
    "query = r\"\"\"WITH dnf AS (\n",
    "    SELECT\n",
    "        statusId,\n",
    "        CASE \n",
    "            WHEN statusId IN (1, 11, 12, 13, 14, 15, 16, 17, 18, 19, 45, 50, 53, 55, 58, 88, \n",
    "                111, 112, 113, 114, 115, 116, 117, 118, 119, 120, 122, 123, 124, 125, 127, 128,\n",
    "                133, 134) THEN \"Finished\"\n",
    "            WHEN statusId IN (2, 3, 4, 20, 62, 68, 77, 81, 85, 90, 96, 97, 100, 130, 139) THEN \"Driver DNF\"\n",
    "            ELSE \"Non-Driver DNF\"\n",
    "        END AS dnfstatus\n",
    "    FROM status\n",
    "    ORDER BY statusId\n",
    "), \n",
    "fullExp AS (\n",
    "    SELECT\n",
    "        YEAR(races.date) AS season,\n",
    "        driverStandings.driverId\n",
    "    FROM \n",
    "        driverStandings LEFT JOIN races ON driverStandings.raceId = races.raceId \n",
    "            LEFT JOIN drivers on driverStandings.driverId = drivers.driverId\n",
    "    GROUP BY YEAR(races.date), driverStandings.driverId\n",
    "    ORDER BY YEAR(races.date)\n",
    "),\n",
    "recentExp AS (\n",
    "    SELECT\n",
    "        season,\n",
    "        driverId,\n",
    "        COUNT(season) OVER (\n",
    "            PARTITION BY driverId\n",
    "            ORDER BY season\n",
    "            RANGE 3 PRECEDING\n",
    "        ) AS expRecentYears\n",
    "    FROM fullExp\n",
    "    ORDER BY season\n",
    "),\n",
    "exp_tbl AS (\n",
    "    SELECT\n",
    "        driverStandings.raceId,\n",
    "        races.date,\n",
    "        YEAR(races.date) AS season,\n",
    "        driverStandings.driverId,\n",
    "        drivers.code,\n",
    "        COUNT(driverStandings.raceId) OVER (\n",
    "                PARTITION BY driverStandings.driverId\n",
    "                ORDER BY races.date ASC\n",
    "                RANGE INTERVAL 3 YEAR PRECEDING\n",
    "            ) AS totalRecentRaces,\n",
    "        recentExp.expRecentYears\n",
    "    FROM driverStandings LEFT JOIN races ON driverStandings.raceId = races.raceId \n",
    "        LEFT JOIN drivers ON driverStandings.driverId = drivers.driverId\n",
    "        LEFT JOIN recentExp ON (YEAR(races.date) = recentExp.season AND driverStandings.driverId = recentExp.driverId)\n",
    "    ORDER BY races.date\n",
    ")\n",
    "SELECT\n",
    "    results.resultId,\n",
    "    results.raceId, \n",
    "    races.year AS season, \n",
    "    races.date, \n",
    "    results.driverId, \n",
    "    constructorId,\n",
    "    grid, \n",
    "    positionOrder, \n",
    "    results.statusId, \n",
    "    dnf.dnfstatus AS dnfStatus,\n",
    "    drivers.code AS driverCode, \n",
    "    drivers.dob,\n",
    "    (YEAR(races.date) - YEAR(drivers.dob) - (CASE WHEN MONTH(races.date) < MONTH(drivers.dob) THEN 1 ELSE 0 END)) AS driverAge,\n",
    "    exp_tbl.expRecentYears\n",
    "FROM \n",
    "    results LEFT JOIN dnf ON results.statusId = dnf.statusId\n",
    "    LEFT JOIN races ON results.raceId = races.raceId\n",
    "    LEFT JOIN drivers on results.driverId = drivers.driverId\n",
    "    LEFT JOIN exp_tbl on (results.raceId = exp_tbl.raceId AND results.driverId = exp_tbl.driverId)\n",
    "ORDER BY date DESC, positionOrder ASC\n",
    ";\"\"\""
   ]
  },
  {
   "cell_type": "code",
   "execution_count": 8,
   "metadata": {},
   "outputs": [
    {
     "name": "stdout",
     "output_type": "stream",
     "text": [
      "<class 'pandas.core.frame.DataFrame'>\n",
      "Index: 25900 entries, 25886 to 20045\n",
      "Data columns (total 13 columns):\n",
      " #   Column          Non-Null Count  Dtype  \n",
      "---  ------          --------------  -----  \n",
      " 0   raceId          25900 non-null  int64  \n",
      " 1   season          25900 non-null  int64  \n",
      " 2   date            25900 non-null  object \n",
      " 3   driverId        25900 non-null  int64  \n",
      " 4   constructorId   25900 non-null  int64  \n",
      " 5   grid            25900 non-null  int64  \n",
      " 6   positionOrder   25900 non-null  int64  \n",
      " 7   statusId        25900 non-null  int64  \n",
      " 8   dnfStatus       25900 non-null  object \n",
      " 9   driverCode      9319 non-null   object \n",
      " 10  dob             25900 non-null  object \n",
      " 11  driverAge       25900 non-null  int64  \n",
      " 12  expRecentYears  25431 non-null  float64\n",
      "dtypes: float64(1), int64(8), object(4)\n",
      "memory usage: 2.8+ MB\n"
     ]
    }
   ],
   "source": [
    "resultsdf_raw = pd.read_sql(query, ergast_engine, index_col = 'resultId')\n",
    "resultsdf_raw.info()"
   ]
  },
  {
   "cell_type": "code",
   "execution_count": null,
   "metadata": {},
   "outputs": [],
   "source": [
    "def preproc_change_type(df):    \n",
    "    df['dnfstatus'] = df['dnfstatus'].astype('category')\n",
    "    df['season'] = df['season'].astype('category')\n",
    "    df['driverCode'] = df['driverCode'].astype('category')\n",
    "    df['date'] = pd.to_datetime(df['date'])\n",
    "    df['dob'] = pd.to_datetime(df['dob'])\n",
    "\n",
    "    for col_int16 in ['raceId', 'driverId', 'constructorId']:\n",
    "        df[col_int16] = df[col_int16].astype('uint16')\n",
    "    \n",
    "    for col_int8 in ['grid', 'positionOrder', 'driverAge', 'recenrt']:\n",
    "        df[col_int8] = df[col_int8].astype('uint8')\n",
    "\n",
    "    return df\n",
    "\n",
    "def preproc_drop_cols(df):\n",
    "    df.drop(columns = ['statusId'])\n",
    "    return df\n",
    "\n",
    "resultsdf = (resultsdf_raw.copy()\n",
    "    .pipe(preproc_change_type)\n",
    "    .pipe(preproc_drop_cols)             \n",
    ")"
   ]
  },
  {
   "cell_type": "code",
   "execution_count": null,
   "metadata": {},
   "outputs": [],
   "source": [
    "resultsdf.info()"
   ]
  },
  {
   "cell_type": "code",
   "execution_count": null,
   "metadata": {},
   "outputs": [],
   "source": [
    "resultsdf.head()"
   ]
  },
  {
   "attachments": {},
   "cell_type": "markdown",
   "metadata": {},
   "source": [
    "### Driver data"
   ]
  },
  {
   "cell_type": "code",
   "execution_count": null,
   "metadata": {},
   "outputs": [],
   "source": []
  },
  {
   "attachments": {},
   "cell_type": "markdown",
   "metadata": {},
   "source": [
    "## 2. Exploration"
   ]
  },
  {
   "cell_type": "markdown",
   "metadata": {},
   "source": []
  }
 ],
 "metadata": {
  "kernelspec": {
   "display_name": "f1",
   "language": "python",
   "name": "python3"
  },
  "language_info": {
   "codemirror_mode": {
    "name": "ipython",
    "version": 3
   },
   "file_extension": ".py",
   "mimetype": "text/x-python",
   "name": "python",
   "nbconvert_exporter": "python",
   "pygments_lexer": "ipython3",
   "version": "3.9.5"
  },
  "orig_nbformat": 4
 },
 "nbformat": 4,
 "nbformat_minor": 2
}
